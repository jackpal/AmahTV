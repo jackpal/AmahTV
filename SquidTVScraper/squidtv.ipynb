{
 "cells": [
  {
   "cell_type": "markdown",
   "metadata": {},
   "source": [
    "# [SquidTV](https://squidtv.net) scraper\n",
    "\n",
    "This notebook semi-automates the preparation of AmahTV channel lists, by scraping the squidtv.net web site."
   ]
  },
  {
   "cell_type": "code",
   "execution_count": 8,
   "metadata": {},
   "outputs": [],
   "source": [
    "import requests\n",
    "from bs4 import BeautifulSoup\n",
    "from urllib.parse import parse_qs, urljoin, urlparse\n",
    "\n",
    "def fetch_page(url):\n",
    "  response = requests.get(url)\n",
    "  response.encoding = response.apparent_encoding\n",
    "  return BeautifulSoup(response.text, 'html.parser')\n",
    "\n",
    "def video_id_from_livestream_url(livestream_url):\n",
    "  livestream_soup = fetch_page(livestream_url)\n",
    "  link = livestream_soup.find('link', {\"rel\":\"canonical\"})\n",
    "  if not link:\n",
    "    return None\n",
    "  video_url = link['href']\n",
    "  if not video_url:\n",
    "    return None\n",
    "  video_id = parse_qs(urlparse(video_url).query)['v'][0]\n",
    "  return video_id\n",
    "\n",
    "def video_id_from_channel_page_url(channel_page_url):\n",
    "  channel_page = fetch_page(channel_page_url)\n",
    "  div = channel_page.find('div', {\"class\":\"yt01\"})\n",
    "  if not div:\n",
    "    return None\n",
    "  iframe = div.find('iframe')\n",
    "  if not iframe:\n",
    "    return None\n",
    "  livestream_url = iframe['src']\n",
    "  if not livestream_url:\n",
    "    return None\n",
    "  return video_id_from_livestream_url(livestream_url)\n",
    "\n",
    "def unwanted_generas_in_genres(genres, unwanted_genres):\n",
    "  found_unwanted_genres = []\n",
    "  for g in genres:\n",
    "    g = g.lower()\n",
    "    for u in unwanted_genres:\n",
    "      u = u.lower()\n",
    "      if u in g:\n",
    "        found_unwanted_genres.append(g)\n",
    "  return found_unwanted_genres\n",
    "\n",
    "def channels_from_country_page_url(country_page_url, unwanted_channels = [], unwanted_genres = []):\n",
    "  # Use a dict rather than a set because dicts preserve insertion order\n",
    "  channels = dict()\n",
    "  for channel_a in fetch_page(country_page_url).find_all('a',{\"class\": \"chlink01\"}):\n",
    "      channel_name = channel_a.text\n",
    "      if channel_name in unwanted_channels:\n",
    "        print(f'rejecting {channel_name} due to unwanted channel name')\n",
    "        continue\n",
    "      genre_text = channel_a.parent.parent.find('td',{'class':'hpb-cnt-tb-sqtv04-genre'}).text\n",
    "      genres = tuple([genre.strip() for genre in genre_text.split(',')])\n",
    "      channel_unwanted_genres = unwanted_generas_in_genres(genres, unwanted_genres)\n",
    "      if channel_unwanted_genres:\n",
    "        print(f'rejecting {channel_name} due to unwanted genres {channel_unwanted_genres}')\n",
    "        continue\n",
    "      video_id = video_id_from_channel_page_url(urljoin(country_page_url, channel_a['href']))\n",
    "      if not video_id:\n",
    "        print(f'rejecting {channel_name} due to not having a video_id.')\n",
    "        continue\n",
    "      channels[video_id] = (channel_name, genres)\n",
    "  return [(channel_name, video_id, genres) for video_id, (channel_name, genres) in channels.items()]\n",
    "\n",
    "def print_swift_source_for_channels(channels):\n",
    "  for name, id, genres in channels:\n",
    "    print(f\"Video(name: \\\"{name}\\\", id: \\\"{id}\\\"), // {','.join(genres)}\")\n"
   ]
  },
  {
   "cell_type": "code",
   "execution_count": 10,
   "metadata": {},
   "outputs": [
    {
     "name": "stdout",
     "output_type": "stream",
     "text": [
      "rejecting TTV News Channel due to not having a video_id.\n",
      "rejecting CTi Asia due to unwanted channel name\n",
      "rejecting Taiwan Indigenous TV due to not having a video_id.\n",
      "rejecting TVBS News due to not having a video_id.\n",
      "rejecting Hakka TV due to not having a video_id.\n",
      "rejecting EBC News due to not having a video_id.\n",
      "rejecting NTDAPTV due to unwanted channel name\n",
      "rejecting UDN TV due to not having a video_id.\n",
      "rejecting EBC Financial News due to unwanted genres ['news \\n              (finance']\n",
      "rejecting SET iNEWS due to unwanted genres ['finance)']\n",
      "rejecting EFTV due to unwanted genres ['news \\n              (finance)']\n",
      "rejecting SBN due to unwanted genres ['news \\n              (finance)']\n",
      "rejecting SJTV due to unwanted channel name\n",
      "rejecting TLTV due to unwanted genres ['shopping']\n",
      "rejecting Sinda TV due to not having a video_id.\n",
      "rejecting SDTV 1 due to unwanted channel name\n",
      "rejecting EBC YOYO TV due to not having a video_id.\n",
      "rejecting Parliamentary TV due to unwanted genres ['legislature']\n",
      "rejecting MOMO TV due to unwanted genres ['shopping']\n",
      "rejecting ET Mall due to unwanted genres ['shopping']\n",
      "rejecting ViVa TV due to unwanted genres ['shopping']\n",
      "rejecting DaAi TV due to unwanted genres ['religion']\n",
      "rejecting GOOD TV due to unwanted genres ['religion']\n",
      "rejecting Hwazan Satellite TV due to unwanted genres ['religion']\n",
      "rejecting CBTV due to unwanted genres ['religion']\n",
      "rejecting Life TV due to unwanted genres ['religion']\n",
      "rejecting BTS due to unwanted genres ['religion']\n",
      "rejecting Chengte TV due to unwanted genres ['religion']\n",
      "rejecting Wei Xin TV due to unwanted genres ['religion']\n",
      "rejecting Chinese Hope TV due to unwanted genres ['religion']\n",
      "Video(name: \"FTV\", id: \"XGEmg3vhrzU\"), // Generalist,News,Entertainment\n",
      "Video(name: \"CTS News\", id: \"wM0g8EoUZ_E\"), // News,Information\n",
      "Video(name: \"SET News\", id: \"FoBfXvlOR6I\"), // News,Current Affairs\n",
      "Video(name: \"CTV News Channel\", id: \"TCnaIE_SAtM\"), // News\n",
      "Video(name: \"CTi News\", id: \"lu_BJKxqGnk\"), // News\n",
      "Video(name: \"Global News\", id: \"Fpsi2cmXGMs\"), // News,Current Affairs\n"
     ]
    }
   ],
   "source": [
    "# NTDAPTV is a religious channel.\n",
    "# 'CTi Asia' seems to show the same content as 'CTi News'\n",
    "# 'SJTV' is low quality (lots of shopping)\n",
    "# 'SDTV 1' is low quality (lots of shopping)\n",
    "print_swift_source_for_channels(channels_from_country_page_url('https://www.squidtv.net/asia/taiwan/',\n",
    "  unwanted_channels = ['NTDAPTV','CTi Asia', 'SDTV 1', 'SJTV'],\n",
    "  unwanted_genres = ['Finance', 'Shopping', 'Legislature', 'Religion']))\n"
   ]
  },
  {
   "cell_type": "code",
   "execution_count": 9,
   "metadata": {},
   "outputs": [
    {
     "name": "stdout",
     "output_type": "stream",
     "text": [
      "rejecting NHK WORLD-JAPAN due to not having a video_id.\n",
      "rejecting NTV News 24 due to not having a video_id.\n",
      "rejecting AbemaTV due to not having a video_id.\n",
      "rejecting Asahi Shimbun due to not having a video_id.\n",
      "rejecting NHK Huayu Shijie due to not having a video_id.\n",
      "rejecting TBS NEWS due to not having a video_id.\n",
      "rejecting Jpn Gov't Internet TV  due to not having a video_id.\n",
      "rejecting HOR TV due to unwanted genres ['legislature (diet)']\n",
      "rejecting HOC TV due to unwanted genres ['legislature (diet)']\n",
      "rejecting QVC Japan due to unwanted genres ['shopping']\n",
      "rejecting Shop Channel due to unwanted genres ['shopping']\n",
      "rejecting Japanet Channel DX due to unwanted genres ['shopping']\n",
      "rejecting GSTV due to unwanted genres ['shopping']\n",
      "Video(name: \"JapaNews24 (TV Asahi)\", id: \"coYw-eVU0Ks\"), // News\n",
      "Video(name: \"HTB Hokkaido News 24\", id: \"Ga08Th8LDzU\"), // News,Weather (Regional)\n",
      "Video(name: \"Mētele News Live 24\", id: \"-C6FE2m7kX8\"), // News,Weather (Regional)\n",
      "Video(name: \"KANSAI News24 (ABC TV)\", id: \"YUWowy8WDRA\"), // News,Weather (Regional)\n",
      "Video(name: \"KBC News Live 24\", id: \"FdG6YYN-fNM\"), // News,Weather (Regional)\n",
      "Video(name: \"SATV News 24H\", id: \"Vts7ySzj2OM\"), // News,Weather (Regional)\n",
      "Video(name: \"Weathernews LiVE\", id: \"fyMCRlES1sM\"), // Weather\n",
      "Video(name: \"Pokémon Kids TV\", id: \"HHIj221nbco\"), // Edutainment\n"
     ]
    },
    {
     "data": {
      "text/plain": [
       "[('JapaNews24 (TV Asahi)', 'coYw-eVU0Ks', ('News',)),\n",
       " ('HTB Hokkaido News 24', 'Ga08Th8LDzU', ('News', 'Weather (Regional)')),\n",
       " ('Mētele News Live 24', '-C6FE2m7kX8', ('News', 'Weather (Regional)')),\n",
       " ('KANSAI News24 (ABC TV)', 'YUWowy8WDRA', ('News', 'Weather (Regional)')),\n",
       " ('KBC News Live 24', 'FdG6YYN-fNM', ('News', 'Weather (Regional)')),\n",
       " ('SATV News 24H', 'Vts7ySzj2OM', ('News', 'Weather (Regional)')),\n",
       " ('Weathernews LiVE', 'fyMCRlES1sM', ('Weather',)),\n",
       " ('Pokémon Kids TV', 'HHIj221nbco', ('Edutainment',))]"
      ]
     },
     "execution_count": 9,
     "metadata": {},
     "output_type": "execute_result"
    }
   ],
   "source": [
    "print_swift_source_for_channels(channels_from_country_page_url('https://www.squidtv.net/asia/japan/',\n",
    "  unwanted_channels = [\"Weathernews LiVE\"],\n",
    "  unwanted_genres = ['Finance', 'Shopping', 'Legislature', 'Religion']))\n",
    "japan_channels"
   ]
  }
 ],
 "metadata": {
  "interpreter": {
   "hash": "31f2aee4e71d21fbe5cf8b01ff0e069b9275f58929596ceb00d14d90e3e16cd6"
  },
  "kernelspec": {
   "display_name": "Python 3.8.9 64-bit",
   "language": "python",
   "name": "python3"
  },
  "language_info": {
   "codemirror_mode": {
    "name": "ipython",
    "version": 3
   },
   "file_extension": ".py",
   "mimetype": "text/x-python",
   "name": "python",
   "nbconvert_exporter": "python",
   "pygments_lexer": "ipython3",
   "version": "3.8.9"
  },
  "orig_nbformat": 4
 },
 "nbformat": 4,
 "nbformat_minor": 2
}
